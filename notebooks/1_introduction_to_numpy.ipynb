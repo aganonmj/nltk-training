{
  "nbformat": 4,
  "nbformat_minor": 0,
  "metadata": {
    "colab": {
      "name": "1-introduction-to-numpy.ipynb",
      "version": "0.3.2",
      "provenance": [],
      "collapsed_sections": []
    },
    "kernelspec": {
      "name": "python3",
      "display_name": "Python 3"
    }
  },
  "cells": [
    {
      "metadata": {
        "id": "Za4RWbzLkF-T",
        "colab_type": "code",
        "colab": {
          "base_uri": "https://localhost:8080/",
          "height": 185
        },
        "outputId": "fe053202-c618-49e0-d0bb-0e3fcfc8c534"
      },
      "cell_type": "code",
      "source": [
        "import numpy as np\n",
        "\n",
        "A = np.matrix('22, 5, 16, 6; 13, 20, 19, 0; 5 9 1 6; 27, 13, 15, 19')\n",
        "B = np.matrix('10, 5, 20, 20; 5, 21, 22, 27; 26, 19, 22, 3; 27, 8, 18, 7')\n",
        "c = np.array([24, 3, 17, 7, 11, 2, 21, 2, 24, 18, 3, 11, 14, 25, 2, 20])\n",
        "d = np.array([3, 15, 24, 22, 19, 24, 4, 29, 6, 3, 20, 1, 11, 25, 26, 6])\n",
        "\n",
        "print (A)\n",
        "print (B)\n",
        "print (c)\n",
        "print (d)"
      ],
      "execution_count": 7,
      "outputs": [
        {
          "output_type": "stream",
          "text": [
            "[[22  5 16  6]\n",
            " [13 20 19  0]\n",
            " [ 5  9  1  6]\n",
            " [27 13 15 19]]\n",
            "[[10  5 20 20]\n",
            " [ 5 21 22 27]\n",
            " [26 19 22  3]\n",
            " [27  8 18  7]]\n",
            "[24  3 17  7 11  2 21  2 24 18  3 11 14 25  2 20]\n",
            "[ 3 15 24 22 19 24  4 29  6  3 20  1 11 25 26  6]\n"
          ],
          "name": "stdout"
        }
      ]
    },
    {
      "metadata": {
        "id": "v0wqzOAPlQFz",
        "colab_type": "code",
        "colab": {
          "base_uri": "https://localhost:8080/",
          "height": 84
        },
        "outputId": "2f93d687-da11-4cda-ae4d-3ed9bcad4584"
      },
      "cell_type": "code",
      "source": [
        "#Element-wise addition A + B\n",
        "A + B"
      ],
      "execution_count": 8,
      "outputs": [
        {
          "output_type": "execute_result",
          "data": {
            "text/plain": [
              "matrix([[32, 10, 36, 26],\n",
              "        [18, 41, 41, 27],\n",
              "        [31, 28, 23,  9],\n",
              "        [54, 21, 33, 26]])"
            ]
          },
          "metadata": {
            "tags": []
          },
          "execution_count": 8
        }
      ]
    },
    {
      "metadata": {
        "id": "au8R7KAely8Z",
        "colab_type": "code",
        "colab": {
          "base_uri": "https://localhost:8080/",
          "height": 84
        },
        "outputId": "78890e90-c256-415e-994f-f848d85a93ba"
      },
      "cell_type": "code",
      "source": [
        "#ELement-wise subtraction A - B\n",
        "A - B"
      ],
      "execution_count": 9,
      "outputs": [
        {
          "output_type": "execute_result",
          "data": {
            "text/plain": [
              "matrix([[ 12,   0,  -4, -14],\n",
              "        [  8,  -1,  -3, -27],\n",
              "        [-21, -10, -21,   3],\n",
              "        [  0,   5,  -3,  12]])"
            ]
          },
          "metadata": {
            "tags": []
          },
          "execution_count": 9
        }
      ]
    },
    {
      "metadata": {
        "id": "nAnIIlhsmP3o",
        "colab_type": "code",
        "colab": {
          "base_uri": "https://localhost:8080/",
          "height": 84
        },
        "outputId": "64adebba-6fdf-4853-fdd8-970c95d958b4"
      },
      "cell_type": "code",
      "source": [
        "#Element-wise multiplication A * B\n",
        "np.multiply(A, B)"
      ],
      "execution_count": 10,
      "outputs": [
        {
          "output_type": "execute_result",
          "data": {
            "text/plain": [
              "matrix([[220,  25, 320, 120],\n",
              "        [ 65, 420, 418,   0],\n",
              "        [130, 171,  22,  18],\n",
              "        [729, 104, 270, 133]])"
            ]
          },
          "metadata": {
            "tags": []
          },
          "execution_count": 10
        }
      ]
    },
    {
      "metadata": {
        "id": "6qKXpwbfnlW7",
        "colab_type": "code",
        "colab": {
          "base_uri": "https://localhost:8080/",
          "height": 218
        },
        "outputId": "2dbb103c-4dfa-4260-ba70-e9db705c9bc6"
      },
      "cell_type": "code",
      "source": [
        "#Matrix Multiplication A X B\n",
        "print (A)\n",
        "print (B)\n",
        "A * B"
      ],
      "execution_count": 12,
      "outputs": [
        {
          "output_type": "stream",
          "text": [
            "[[22  5 16  6]\n",
            " [13 20 19  0]\n",
            " [ 5  9  1  6]\n",
            " [27 13 15 19]]\n",
            "[[10  5 20 20]\n",
            " [ 5 21 22 27]\n",
            " [26 19 22  3]\n",
            " [27  8 18  7]]\n"
          ],
          "name": "stdout"
        },
        {
          "output_type": "execute_result",
          "data": {
            "text/plain": [
              "matrix([[ 823,  567, 1010,  665],\n",
              "        [ 724,  846, 1118,  857],\n",
              "        [ 283,  281,  428,  388],\n",
              "        [1238,  845, 1498, 1069]])"
            ]
          },
          "metadata": {
            "tags": []
          },
          "execution_count": 12
        }
      ]
    },
    {
      "metadata": {
        "id": "cRLpdP5insTa",
        "colab_type": "code",
        "colab": {
          "base_uri": "https://localhost:8080/",
          "height": 34
        },
        "outputId": "6882c893-e556-408f-d976-8973f3e9536b"
      },
      "cell_type": "code",
      "source": [
        "c + d"
      ],
      "execution_count": 14,
      "outputs": [
        {
          "output_type": "execute_result",
          "data": {
            "text/plain": [
              "array([27, 18, 41, 29, 30, 26, 25, 31, 30, 21, 23, 12, 25, 50, 28, 26])"
            ]
          },
          "metadata": {
            "tags": []
          },
          "execution_count": 14
        }
      ]
    },
    {
      "metadata": {
        "id": "puCugb-ppwqq",
        "colab_type": "code",
        "colab": {
          "base_uri": "https://localhost:8080/",
          "height": 50
        },
        "outputId": "afe085e4-7543-415c-d545-056f3a298a62"
      },
      "cell_type": "code",
      "source": [
        "c-d"
      ],
      "execution_count": 15,
      "outputs": [
        {
          "output_type": "execute_result",
          "data": {
            "text/plain": [
              "array([ 21, -12,  -7, -15,  -8, -22,  17, -27,  18,  15, -17,  10,   3,\n",
              "         0, -24,  14])"
            ]
          },
          "metadata": {
            "tags": []
          },
          "execution_count": 15
        }
      ]
    },
    {
      "metadata": {
        "id": "wKuByDvup9su",
        "colab_type": "code",
        "colab": {
          "base_uri": "https://localhost:8080/",
          "height": 50
        },
        "outputId": "59bbce5e-dc45-4a7b-b846-ac7ddb8e70b5"
      },
      "cell_type": "code",
      "source": [
        "#elementwise \n",
        "np.multiply(c,d)"
      ],
      "execution_count": 21,
      "outputs": [
        {
          "output_type": "execute_result",
          "data": {
            "text/plain": [
              "array([ 72,  45, 408, 154, 209,  48,  84,  58, 144,  54,  60,  11, 154,\n",
              "       625,  52, 120])"
            ]
          },
          "metadata": {
            "tags": []
          },
          "execution_count": 21
        }
      ]
    },
    {
      "metadata": {
        "id": "FecrhKWep_uf",
        "colab_type": "code",
        "colab": {
          "base_uri": "https://localhost:8080/",
          "height": 50
        },
        "outputId": "bda64d4d-1c1a-46df-8b22-197a86a2a6d5"
      },
      "cell_type": "code",
      "source": [
        "c*d"
      ],
      "execution_count": 22,
      "outputs": [
        {
          "output_type": "execute_result",
          "data": {
            "text/plain": [
              "array([ 72,  45, 408, 154, 209,  48,  84,  58, 144,  54,  60,  11, 154,\n",
              "       625,  52, 120])"
            ]
          },
          "metadata": {
            "tags": []
          },
          "execution_count": 22
        }
      ]
    },
    {
      "metadata": {
        "id": "WUmbo63PqQd0",
        "colab_type": "code",
        "colab": {
          "base_uri": "https://localhost:8080/",
          "height": 84
        },
        "outputId": "160e091b-0f91-44af-e395-4b4a1b55ea7c"
      },
      "cell_type": "code",
      "source": [
        "A+10"
      ],
      "execution_count": 23,
      "outputs": [
        {
          "output_type": "execute_result",
          "data": {
            "text/plain": [
              "matrix([[32, 15, 26, 16],\n",
              "        [23, 30, 29, 10],\n",
              "        [15, 19, 11, 16],\n",
              "        [37, 23, 25, 29]])"
            ]
          },
          "metadata": {
            "tags": []
          },
          "execution_count": 23
        }
      ]
    },
    {
      "metadata": {
        "id": "9y_RfBAxqpSH",
        "colab_type": "code",
        "colab": {
          "base_uri": "https://localhost:8080/",
          "height": 84
        },
        "outputId": "e7597d5e-be3c-439a-8ecf-803c6a3dff96"
      },
      "cell_type": "code",
      "source": [
        "B+10"
      ],
      "execution_count": 24,
      "outputs": [
        {
          "output_type": "execute_result",
          "data": {
            "text/plain": [
              "matrix([[20, 15, 30, 30],\n",
              "        [15, 31, 32, 37],\n",
              "        [36, 29, 32, 13],\n",
              "        [37, 18, 28, 17]])"
            ]
          },
          "metadata": {
            "tags": []
          },
          "execution_count": 24
        }
      ]
    },
    {
      "metadata": {
        "id": "PU-X8kZwqxEy",
        "colab_type": "code",
        "colab": {
          "base_uri": "https://localhost:8080/",
          "height": 34
        },
        "outputId": "ec0f2f00-78f8-4efa-87e8-3aa7e3c2cd05"
      },
      "cell_type": "code",
      "source": [
        "c+15"
      ],
      "execution_count": 25,
      "outputs": [
        {
          "output_type": "execute_result",
          "data": {
            "text/plain": [
              "array([39, 18, 32, 22, 26, 17, 36, 17, 39, 33, 18, 26, 29, 40, 17, 35])"
            ]
          },
          "metadata": {
            "tags": []
          },
          "execution_count": 25
        }
      ]
    },
    {
      "metadata": {
        "id": "JL44SlNbqyTw",
        "colab_type": "code",
        "colab": {
          "base_uri": "https://localhost:8080/",
          "height": 34
        },
        "outputId": "64c3f826-717b-41b5-f95b-e9ed279f478e"
      },
      "cell_type": "code",
      "source": [
        "d+15"
      ],
      "execution_count": 26,
      "outputs": [
        {
          "output_type": "execute_result",
          "data": {
            "text/plain": [
              "array([18, 30, 39, 37, 34, 39, 19, 44, 21, 18, 35, 16, 26, 40, 41, 21])"
            ]
          },
          "metadata": {
            "tags": []
          },
          "execution_count": 26
        }
      ]
    },
    {
      "metadata": {
        "id": "Xu7oTBTiqzkU",
        "colab_type": "code",
        "colab": {
          "base_uri": "https://localhost:8080/",
          "height": 84
        },
        "outputId": "bd8a3547-c00f-47ec-cff9-80cf552bb3d0"
      },
      "cell_type": "code",
      "source": [
        "(2*A) + (2*B)"
      ],
      "execution_count": 27,
      "outputs": [
        {
          "output_type": "execute_result",
          "data": {
            "text/plain": [
              "matrix([[ 64,  20,  72,  52],\n",
              "        [ 36,  82,  82,  54],\n",
              "        [ 62,  56,  46,  18],\n",
              "        [108,  42,  66,  52]])"
            ]
          },
          "metadata": {
            "tags": []
          },
          "execution_count": 27
        }
      ]
    },
    {
      "metadata": {
        "id": "IsukQ8ryq4Vv",
        "colab_type": "code",
        "colab": {
          "base_uri": "https://localhost:8080/",
          "height": 84
        },
        "outputId": "2cede49a-24d0-48d3-bc92-3e5a9de10267"
      },
      "cell_type": "code",
      "source": [
        "(A+B)*3"
      ],
      "execution_count": 28,
      "outputs": [
        {
          "output_type": "execute_result",
          "data": {
            "text/plain": [
              "matrix([[ 96,  30, 108,  78],\n",
              "        [ 54, 123, 123,  81],\n",
              "        [ 93,  84,  69,  27],\n",
              "        [162,  63,  99,  78]])"
            ]
          },
          "metadata": {
            "tags": []
          },
          "execution_count": 28
        }
      ]
    },
    {
      "metadata": {
        "id": "BCEekccCq681",
        "colab_type": "code",
        "colab": {
          "base_uri": "https://localhost:8080/",
          "height": 84
        },
        "outputId": "aa14ef6a-3eea-4ccd-8913-726145c6cc50"
      },
      "cell_type": "code",
      "source": [
        "(A-B+A-B+B)*4"
      ],
      "execution_count": 29,
      "outputs": [
        {
          "output_type": "execute_result",
          "data": {
            "text/plain": [
              "matrix([[ 136,   20,   48,  -32],\n",
              "        [  84,   76,   64, -108],\n",
              "        [ -64,   -4,  -80,   36],\n",
              "        [ 108,   72,   48,  124]])"
            ]
          },
          "metadata": {
            "tags": []
          },
          "execution_count": 29
        }
      ]
    },
    {
      "metadata": {
        "id": "VvORd1yDq9x3",
        "colab_type": "code",
        "colab": {}
      },
      "cell_type": "code",
      "source": [
        ""
      ],
      "execution_count": 0,
      "outputs": []
    }
  ]
}